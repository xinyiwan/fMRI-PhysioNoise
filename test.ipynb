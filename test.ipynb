{
 "cells": [
  {
   "cell_type": "code",
   "execution_count": 2,
   "metadata": {},
   "outputs": [
    {
     "name": "stderr",
     "output_type": "stream",
     "text": [
      "/Users/xinyi/.local/lib/python3.8/site-packages/nilearn/glm/__init__.py:55: FutureWarning: The nilearn.glm module is experimental. It may change in any future release of Nilearn.\n",
      "  warn('The nilearn.glm module is experimental. '\n"
     ]
    }
   ],
   "source": [
    "from denoise import denoise\n",
    "from preprocess import prep\n",
    "from getReg import getregressors, pulse_detect"
   ]
  },
  {
   "cell_type": "markdown",
   "metadata": {},
   "source": [
    "## Test1.1 \n",
    "Choose the time to be in the middle of scanning.\n",
    "The difference is in 'getReg'"
   ]
  },
  {
   "cell_type": "code",
   "execution_count": 11,
   "metadata": {},
   "outputs": [
    {
     "name": "stdout",
     "output_type": "stream",
     "text": [
      "220725-13:58:43,636 nipype.workflow INFO:\n",
      "\t Workflow preproc settings: ['check', 'execution', 'logging', 'monitoring']\n",
      "220725-13:58:43,659 nipype.workflow INFO:\n",
      "\t Running serially.\n",
      "220725-13:58:43,666 nipype.workflow INFO:\n",
      "\t [Node] Setting-up \"_img2float0\" in \"/private/var/folders/m4/9tqx2h0977b4g9l7n72kv3280000gn/T/tmpvkid1n01/preproc/img2float/mapflow/_img2float0\".\n",
      "220725-13:58:43,670 nipype.workflow INFO:\n",
      "\t [Node] Executing \"_img2float0\" <nipype.interfaces.fsl.utils.ImageMaths>\n",
      "220725-13:59:21,962 nipype.workflow INFO:\n",
      "\t [Node] Finished \"_img2float0\", elapsed time 38.289636s.\n",
      "220725-13:59:21,970 nipype.workflow INFO:\n",
      "\t [Node] Setting-up \"preproc.extractref\" in \"/private/var/folders/m4/9tqx2h0977b4g9l7n72kv3280000gn/T/tmpwh03f7p9/preproc/extractref\".\n",
      "220725-13:59:21,975 nipype.workflow INFO:\n",
      "\t [Node] Executing \"extractref\" <nipype.interfaces.fsl.utils.ExtractROI>\n",
      "220725-13:59:28,855 nipype.workflow INFO:\n",
      "\t [Node] Finished \"extractref\", elapsed time 6.87765s.\n",
      "220725-13:59:28,871 nipype.workflow INFO:\n",
      "\t [Node] Setting-up \"_realign0\" in \"/private/var/folders/m4/9tqx2h0977b4g9l7n72kv3280000gn/T/tmpl3vwyo8k/preproc/realign/mapflow/_realign0\".\n",
      "220725-13:59:28,876 nipype.workflow INFO:\n",
      "\t [Node] Executing \"_realign0\" <nipype.interfaces.fsl.preprocess.MCFLIRT>\n",
      "220725-14:00:31,3 nipype.workflow INFO:\n",
      "\t [Node] Finished \"_realign0\", elapsed time 62.125584s.\n",
      "220725-14:00:31,94 nipype.workflow INFO:\n",
      "\t [Node] Setting-up \"preproc.plot_motion\" in \"/private/var/folders/m4/9tqx2h0977b4g9l7n72kv3280000gn/T/tmpnm08_m01/preproc/_plot_type_translations/plot_motion\".\n",
      "220725-14:00:31,105 nipype.workflow INFO:\n",
      "\t [Node] Executing \"plot_motion\" <nipype.interfaces.fsl.utils.PlotMotionParams>\n",
      "220725-14:00:32,444 nipype.workflow INFO:\n",
      "\t [Node] Finished \"plot_motion\", elapsed time 1.336093s.\n",
      "220725-14:00:32,449 nipype.workflow INFO:\n",
      "\t [Node] Setting-up \"preproc.datasink\" in \"/private/var/folders/m4/9tqx2h0977b4g9l7n72kv3280000gn/T/tmpriyqldms/preproc/_plot_type_translations/datasink\".\n",
      "220725-14:00:32,459 nipype.workflow INFO:\n",
      "\t [Node] Executing \"datasink\" <nipype.interfaces.io.DataSink>\n",
      "220725-14:00:32,464 nipype.workflow INFO:\n",
      "\t [Node] Finished \"datasink\", elapsed time 0.003041s.\n",
      "220725-14:00:32,470 nipype.workflow INFO:\n",
      "\t [Node] Setting-up \"preproc.plot_motion\" in \"/private/var/folders/m4/9tqx2h0977b4g9l7n72kv3280000gn/T/tmpujpoizfs/preproc/_plot_type_rotations/plot_motion\".\n",
      "220725-14:00:32,477 nipype.workflow INFO:\n",
      "\t [Node] Executing \"plot_motion\" <nipype.interfaces.fsl.utils.PlotMotionParams>\n",
      "220725-14:00:33,866 nipype.workflow INFO:\n",
      "\t [Node] Finished \"plot_motion\", elapsed time 1.386592s.\n",
      "220725-14:00:33,871 nipype.workflow INFO:\n",
      "\t [Node] Setting-up \"preproc.datasink\" in \"/private/var/folders/m4/9tqx2h0977b4g9l7n72kv3280000gn/T/tmpk4or85le/preproc/_plot_type_rotations/datasink\".\n",
      "220725-14:00:33,882 nipype.workflow INFO:\n",
      "\t [Node] Executing \"datasink\" <nipype.interfaces.io.DataSink>\n",
      "220725-14:00:33,892 nipype.workflow INFO:\n",
      "\t [Node] Finished \"datasink\", elapsed time 0.007316s.\n",
      "220725-14:00:37,371 nipype.workflow INFO:\n",
      "\t Generated workflow graph: /Users/xinyi/Documents/GitHub/fMRI-PhysioNoise/test/1.1/prep/gragh.png (graph2use=orig, simple_form=True).\n"
     ]
    }
   ],
   "source": [
    "prep('/Users/xinyi/Desktop/project/subject/sub01.nii','/Users/xinyi/Desktop/project/subject/struct.nii','test/1.1')"
   ]
  },
  {
   "cell_type": "code",
   "execution_count": 16,
   "metadata": {},
   "outputs": [
    {
     "name": "stderr",
     "output_type": "stream",
     "text": [
      "/Users/xinyi/Documents/GitHub/fMRI-PhysioNoise/getReg.py:164: VisibleDeprecationWarning: Creating an ndarray from ragged nested sequences (which is a list-or-tuple of lists-or-tuples-or ndarrays with different lengths or shapes) is deprecated. If you meant to do this, you must specify 'dtype=object' when creating the ndarray.\n",
      "  hist = np.asarray(hist)\n"
     ]
    },
    {
     "ename": "IndexError",
     "evalue": "only integers, slices (`:`), ellipsis (`...`), numpy.newaxis (`None`) and integer or boolean arrays are valid indices",
     "output_type": "error",
     "traceback": [
      "\u001b[0;31m---------------------------------------------------------------------------\u001b[0m",
      "\u001b[0;31mIndexError\u001b[0m                                Traceback (most recent call last)",
      "\u001b[1;32m/Users/xinyi/Documents/GitHub/fMRI-PhysioNoise/test.ipynb Cell 4\u001b[0m in \u001b[0;36m<cell line: 1>\u001b[0;34m()\u001b[0m\n\u001b[0;32m----> <a href='vscode-notebook-cell:/Users/xinyi/Documents/GitHub/fMRI-PhysioNoise/test.ipynb#ch0000003?line=0'>1</a>\u001b[0m getregressors(\u001b[39m'\u001b[39;49m\u001b[39m/Users/xinyi/Desktop/project/subject/pulse_resp1_Sub1_10june2022_raw.txt\u001b[39;49m\u001b[39m'\u001b[39;49m,\u001b[39m'\u001b[39;49m\u001b[39mtest/1.1\u001b[39;49m\u001b[39m'\u001b[39;49m,\u001b[39m1.7\u001b[39;49m,\u001b[39m2\u001b[39;49m,\u001b[39m10000\u001b[39;49m)\n",
      "File \u001b[0;32m~/Documents/GitHub/fMRI-PhysioNoise/getReg.py:72\u001b[0m, in \u001b[0;36mgetregressors\u001b[0;34m(txtpath, workdir, tr, order, samplerate)\u001b[0m\n\u001b[1;32m     69\u001b[0m phase_c\u001b[39m.\u001b[39mto_csv(workdir \u001b[39m+\u001b[39m \u001b[39m'\u001b[39m\u001b[39m/rsp_phase.csv\u001b[39m\u001b[39m'\u001b[39m, index \u001b[39m=\u001b[39m \u001b[39mNone\u001b[39;00m)\n\u001b[1;32m     70\u001b[0m \u001b[39m# get phase value of respiration and cardiac\u001b[39;00m\n\u001b[0;32m---> 72\u001b[0m resp_phase \u001b[39m=\u001b[39m getphase_res(df, tag, phase, workdir)\n\u001b[1;32m     73\u001b[0m card_phase \u001b[39m=\u001b[39m getphase_ppg(df[\u001b[39m'\u001b[39m\u001b[39mppg\u001b[39m\u001b[39m'\u001b[39m],tag, workdir)\n\u001b[1;32m     75\u001b[0m \u001b[39m# Calculate and Define the size of regressors\u001b[39;00m\n",
      "File \u001b[0;32m~/Documents/GitHub/fMRI-PhysioNoise/getReg.py:169\u001b[0m, in \u001b[0;36mgetphase_res\u001b[0;34m(df, t_scan, phase, workdir)\u001b[0m\n\u001b[1;32m    167\u001b[0m val \u001b[39m=\u001b[39m []\n\u001b[1;32m    168\u001b[0m \u001b[39mfor\u001b[39;00m i \u001b[39min\u001b[39;00m t_scan:\n\u001b[0;32m--> 169\u001b[0m     amp \u001b[39m=\u001b[39m resp[i,\u001b[39m0\u001b[39;49m]\n\u001b[1;32m    170\u001b[0m     amp_norm \u001b[39m=\u001b[39m f(amp)\n\u001b[1;32m    171\u001b[0m     val\u001b[39m.\u001b[39mappend(phase_value(hist,amp_norm) \u001b[39m*\u001b[39m find_phase(phase, i) \u001b[39m*\u001b[39m math\u001b[39m.\u001b[39mpi)\n",
      "\u001b[0;31mIndexError\u001b[0m: only integers, slices (`:`), ellipsis (`...`), numpy.newaxis (`None`) and integer or boolean arrays are valid indices"
     ]
    },
    {
     "data": {
      "image/png": "[encoded data removed]",
      "text/plain": [
       "<Figure size 1080x360 with 1 Axes>"
      ]
     },
     "metadata": {
      "needs_background": "light"
     },
     "output_type": "display_data"
    }
   ],
   "source": [
    "getregressors('/Users/xinyi/Desktop/project/subject/pulse_resp1_Sub1_10june2022_raw.txt','test/1.1',1.7,2,10000)"
   ]
  },
  {
   "cell_type": "code",
   "execution_count": 17,
   "metadata": {},
   "outputs": [
    {
     "data": {
      "text/html": [
       "<div>\n",
       "<style scoped>\n",
       "    .dataframe tbody tr th:only-of-type {\n",
       "        vertical-align: middle;\n",
       "    }\n",
       "\n",
       "    .dataframe tbody tr th {\n",
       "        vertical-align: top;\n",
       "    }\n",
       "\n",
       "    .dataframe thead th {\n",
       "        text-align: right;\n",
       "    }\n",
       "</style>\n",
       "<table border=\"1\" class=\"dataframe\">\n",
       "  <thead>\n",
       "    <tr style=\"text-align: right;\">\n",
       "      <th></th>\n",
       "      <th>0</th>\n",
       "    </tr>\n",
       "  </thead>\n",
       "  <tbody>\n",
       "    <tr>\n",
       "      <th>0</th>\n",
       "      <td>196318.0</td>\n",
       "    </tr>\n",
       "    <tr>\n",
       "      <th>1</th>\n",
       "      <td>213318.0</td>\n",
       "    </tr>\n",
       "    <tr>\n",
       "      <th>2</th>\n",
       "      <td>230318.0</td>\n",
       "    </tr>\n",
       "    <tr>\n",
       "      <th>3</th>\n",
       "      <td>247318.0</td>\n",
       "    </tr>\n",
       "    <tr>\n",
       "      <th>4</th>\n",
       "      <td>264318.0</td>\n",
       "    </tr>\n",
       "    <tr>\n",
       "      <th>...</th>\n",
       "      <td>...</td>\n",
       "    </tr>\n",
       "    <tr>\n",
       "      <th>395</th>\n",
       "      <td>6911353.0</td>\n",
       "    </tr>\n",
       "    <tr>\n",
       "      <th>396</th>\n",
       "      <td>6928353.0</td>\n",
       "    </tr>\n",
       "    <tr>\n",
       "      <th>397</th>\n",
       "      <td>6945353.0</td>\n",
       "    </tr>\n",
       "    <tr>\n",
       "      <th>398</th>\n",
       "      <td>6962353.0</td>\n",
       "    </tr>\n",
       "    <tr>\n",
       "      <th>399</th>\n",
       "      <td>6979353.0</td>\n",
       "    </tr>\n",
       "  </tbody>\n",
       "</table>\n",
       "<p>400 rows × 1 columns</p>\n",
       "</div>"
      ],
      "text/plain": [
       "             0\n",
       "0     196318.0\n",
       "1     213318.0\n",
       "2     230318.0\n",
       "3     247318.0\n",
       "4     264318.0\n",
       "..         ...\n",
       "395  6911353.0\n",
       "396  6928353.0\n",
       "397  6945353.0\n",
       "398  6962353.0\n",
       "399  6979353.0\n",
       "\n",
       "[400 rows x 1 columns]"
      ]
     },
     "execution_count": 17,
     "metadata": {},
     "output_type": "execute_result"
    }
   ],
   "source": [
    "import pandas as pd\n",
    "regressors = pd.read_csv('test/1.1/physio/mri_pulse.csv')\n",
    "regressors"
   ]
  },
  {
   "cell_type": "code",
   "execution_count": 18,
   "metadata": {},
   "outputs": [],
   "source": [
    "import numpy as np\n",
    "txtpath = '/Users/xinyi/Desktop/project/subject/pulse_resp1_Sub1_10june2022_raw.txt'\n",
    "# Open the txt file\n",
    "with open(txtpath, \"r+\") as f:\n",
    "    d = f.readlines()\n",
    "\n",
    "# Remove the head infos \n",
    "for i in np.arange(11):\n",
    "    d.pop(0)\n",
    "\n",
    "# Split values into colums\n",
    "dataset = []\n",
    "for str in d:\n",
    "    row = str.split(\"\\t\")\n",
    "    if row[0] == '':\n",
    "        break\n",
    "    dataset.append([float(i) for i in row[:3]])"
   ]
  },
  {
   "cell_type": "code",
   "execution_count": 19,
   "metadata": {},
   "outputs": [],
   "source": [
    "import pandas as pd\n",
    "from getReg import pulse_detect\n"
   ]
  },
  {
   "cell_type": "code",
   "execution_count": null,
   "metadata": {},
   "outputs": [],
   "source": []
  },
  {
   "cell_type": "markdown",
   "metadata": {},
   "source": [
    "New:0819"
   ]
  },
  {
   "cell_type": "code",
   "execution_count": 3,
   "metadata": {},
   "outputs": [
    {
     "name": "stdout",
     "output_type": "stream",
     "text": [
      "220819-15:26:45,362 nipype.workflow INFO:\n",
      "\t Workflow preproc settings: ['check', 'execution', 'logging', 'monitoring']\n",
      "220819-15:26:45,377 nipype.workflow INFO:\n",
      "\t Running serially.\n",
      "220819-15:26:45,383 nipype.workflow INFO:\n",
      "\t [Node] Setting-up \"_img2float0\" in \"/private/var/folders/m4/9tqx2h0977b4g9l7n72kv3280000gn/T/tmpnjecs6e6/preproc/img2float/mapflow/_img2float0\".\n",
      "220819-15:26:45,386 nipype.workflow INFO:\n",
      "\t [Node] Executing \"_img2float0\" <nipype.interfaces.fsl.utils.ImageMaths>\n",
      "220819-15:27:21,573 nipype.workflow INFO:\n",
      "\t [Node] Finished \"_img2float0\", elapsed time 36.184763s.\n",
      "220819-15:27:21,585 nipype.workflow INFO:\n",
      "\t [Node] Setting-up \"preproc.extractref\" in \"/private/var/folders/m4/9tqx2h0977b4g9l7n72kv3280000gn/T/tmp1qb712us/preproc/extractref\".\n",
      "220819-15:27:21,593 nipype.workflow INFO:\n",
      "\t [Node] Executing \"extractref\" <nipype.interfaces.fsl.utils.ExtractROI>\n",
      "220819-15:27:27,413 nipype.workflow INFO:\n",
      "\t [Node] Finished \"extractref\", elapsed time 5.816702s.\n",
      "220819-15:27:27,431 nipype.workflow INFO:\n",
      "\t [Node] Setting-up \"_realign0\" in \"/private/var/folders/m4/9tqx2h0977b4g9l7n72kv3280000gn/T/tmpjlrga883/preproc/realign/mapflow/_realign0\".\n",
      "220819-15:27:27,437 nipype.workflow INFO:\n",
      "\t [Node] Executing \"_realign0\" <nipype.interfaces.fsl.preprocess.MCFLIRT>\n",
      "220819-15:28:30,852 nipype.workflow INFO:\n",
      "\t [Node] Finished \"_realign0\", elapsed time 63.411245s.\n",
      "220819-15:28:30,905 nipype.workflow INFO:\n",
      "\t [Node] Setting-up \"preproc.plot_motion\" in \"/private/var/folders/m4/9tqx2h0977b4g9l7n72kv3280000gn/T/tmpwx182qkv/preproc/_plot_type_translations/plot_motion\".\n",
      "220819-15:28:30,911 nipype.workflow INFO:\n",
      "\t [Node] Executing \"plot_motion\" <nipype.interfaces.fsl.utils.PlotMotionParams>\n",
      "220819-15:28:31,168 nipype.workflow INFO:\n",
      "\t [Node] Finished \"plot_motion\", elapsed time 0.253893s.\n",
      "220819-15:28:31,173 nipype.workflow INFO:\n",
      "\t [Node] Setting-up \"preproc.datasink\" in \"/private/var/folders/m4/9tqx2h0977b4g9l7n72kv3280000gn/T/tmpm4axm32z/preproc/_plot_type_translations/datasink\".\n",
      "220819-15:28:31,181 nipype.workflow INFO:\n",
      "\t [Node] Executing \"datasink\" <nipype.interfaces.io.DataSink>\n",
      "220819-15:28:31,185 nipype.workflow INFO:\n",
      "\t [Node] Finished \"datasink\", elapsed time 0.001854s.\n",
      "220819-15:28:31,189 nipype.workflow INFO:\n",
      "\t [Node] Setting-up \"preproc.plot_motion\" in \"/private/var/folders/m4/9tqx2h0977b4g9l7n72kv3280000gn/T/tmpt1xmoz4y/preproc/_plot_type_rotations/plot_motion\".\n",
      "220819-15:28:31,195 nipype.workflow INFO:\n",
      "\t [Node] Executing \"plot_motion\" <nipype.interfaces.fsl.utils.PlotMotionParams>\n",
      "220819-15:28:31,437 nipype.workflow INFO:\n",
      "\t [Node] Finished \"plot_motion\", elapsed time 0.238641s.\n",
      "220819-15:28:31,443 nipype.workflow INFO:\n",
      "\t [Node] Setting-up \"preproc.datasink\" in \"/private/var/folders/m4/9tqx2h0977b4g9l7n72kv3280000gn/T/tmprzr608g9/preproc/_plot_type_rotations/datasink\".\n",
      "220819-15:28:31,454 nipype.workflow INFO:\n",
      "\t [Node] Executing \"datasink\" <nipype.interfaces.io.DataSink>\n",
      "220819-15:28:31,459 nipype.workflow INFO:\n",
      "\t [Node] Finished \"datasink\", elapsed time 0.002248s.\n",
      "220819-15:28:42,593 nipype.workflow INFO:\n",
      "\t Generated workflow graph: /Users/xinyi/Documents/GitHub/fMRI-PhysioNoise/test/0819_3/prep/gragh.png (graph2use=orig, simple_form=True).\n"
     ]
    }
   ],
   "source": [
    "prep('/Users/xinyi/Desktop/project/subject/sub01.nii','/Users/xinyi/Desktop/project/subject/struct.nii','/Users/xinyi/Documents/GitHub/fMRI-PhysioNoise/test/0819_3')"
   ]
  }
 ],
 "metadata": {
  "kernelspec": {
   "display_name": "Python 3.8.8 ('base')",
   "language": "python",
   "name": "python3"
  },
  "language_info": {
   "codemirror_mode": {
    "name": "ipython",
    "version": 3
   },
   "file_extension": ".py",
   "mimetype": "text/x-python",
   "name": "python",
   "nbconvert_exporter": "python",
   "pygments_lexer": "ipython3",
   "version": "3.8.8"
  },
  "orig_nbformat": 4,
  "vscode": {
   "interpreter": {
    "hash": "40d3a090f54c6569ab1632332b64b2c03c39dcf918b08424e98f38b5ae0af88f"
   }
  }
 },
 "nbformat": 4,
 "nbformat_minor": 2
}
