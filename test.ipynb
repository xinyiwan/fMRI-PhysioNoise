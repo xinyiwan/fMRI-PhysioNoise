{
 "cells": [
  {
   "cell_type": "code",
   "execution_count": 15,
   "metadata": {},
   "outputs": [],
   "source": [
    "from denoise import denoise\n",
    "from preprocess import prep\n",
    "from getReg import getregressors, pulse_detect"
   ]
  },
  {
   "cell_type": "markdown",
   "metadata": {},
   "source": [
    "## Test1.1 \n",
    "Choose the time to be in the middle of scanning.\n",
    "The difference is in 'getReg'"
   ]
  },
  {
   "cell_type": "code",
   "execution_count": 11,
   "metadata": {},
   "outputs": [
    {
     "name": "stdout",
     "output_type": "stream",
     "text": [
      "220725-13:58:43,636 nipype.workflow INFO:\n",
      "\t Workflow preproc settings: ['check', 'execution', 'logging', 'monitoring']\n",
      "220725-13:58:43,659 nipype.workflow INFO:\n",
      "\t Running serially.\n",
      "220725-13:58:43,666 nipype.workflow INFO:\n",
      "\t [Node] Setting-up \"_img2float0\" in \"/private/var/folders/m4/9tqx2h0977b4g9l7n72kv3280000gn/T/tmpvkid1n01/preproc/img2float/mapflow/_img2float0\".\n",
      "220725-13:58:43,670 nipype.workflow INFO:\n",
      "\t [Node] Executing \"_img2float0\" <nipype.interfaces.fsl.utils.ImageMaths>\n",
      "220725-13:59:21,962 nipype.workflow INFO:\n",
      "\t [Node] Finished \"_img2float0\", elapsed time 38.289636s.\n",
      "220725-13:59:21,970 nipype.workflow INFO:\n",
      "\t [Node] Setting-up \"preproc.extractref\" in \"/private/var/folders/m4/9tqx2h0977b4g9l7n72kv3280000gn/T/tmpwh03f7p9/preproc/extractref\".\n",
      "220725-13:59:21,975 nipype.workflow INFO:\n",
      "\t [Node] Executing \"extractref\" <nipype.interfaces.fsl.utils.ExtractROI>\n",
      "220725-13:59:28,855 nipype.workflow INFO:\n",
      "\t [Node] Finished \"extractref\", elapsed time 6.87765s.\n",
      "220725-13:59:28,871 nipype.workflow INFO:\n",
      "\t [Node] Setting-up \"_realign0\" in \"/private/var/folders/m4/9tqx2h0977b4g9l7n72kv3280000gn/T/tmpl3vwyo8k/preproc/realign/mapflow/_realign0\".\n",
      "220725-13:59:28,876 nipype.workflow INFO:\n",
      "\t [Node] Executing \"_realign0\" <nipype.interfaces.fsl.preprocess.MCFLIRT>\n",
      "220725-14:00:31,3 nipype.workflow INFO:\n",
      "\t [Node] Finished \"_realign0\", elapsed time 62.125584s.\n",
      "220725-14:00:31,94 nipype.workflow INFO:\n",
      "\t [Node] Setting-up \"preproc.plot_motion\" in \"/private/var/folders/m4/9tqx2h0977b4g9l7n72kv3280000gn/T/tmpnm08_m01/preproc/_plot_type_translations/plot_motion\".\n",
      "220725-14:00:31,105 nipype.workflow INFO:\n",
      "\t [Node] Executing \"plot_motion\" <nipype.interfaces.fsl.utils.PlotMotionParams>\n",
      "220725-14:00:32,444 nipype.workflow INFO:\n",
      "\t [Node] Finished \"plot_motion\", elapsed time 1.336093s.\n",
      "220725-14:00:32,449 nipype.workflow INFO:\n",
      "\t [Node] Setting-up \"preproc.datasink\" in \"/private/var/folders/m4/9tqx2h0977b4g9l7n72kv3280000gn/T/tmpriyqldms/preproc/_plot_type_translations/datasink\".\n",
      "220725-14:00:32,459 nipype.workflow INFO:\n",
      "\t [Node] Executing \"datasink\" <nipype.interfaces.io.DataSink>\n",
      "220725-14:00:32,464 nipype.workflow INFO:\n",
      "\t [Node] Finished \"datasink\", elapsed time 0.003041s.\n",
      "220725-14:00:32,470 nipype.workflow INFO:\n",
      "\t [Node] Setting-up \"preproc.plot_motion\" in \"/private/var/folders/m4/9tqx2h0977b4g9l7n72kv3280000gn/T/tmpujpoizfs/preproc/_plot_type_rotations/plot_motion\".\n",
      "220725-14:00:32,477 nipype.workflow INFO:\n",
      "\t [Node] Executing \"plot_motion\" <nipype.interfaces.fsl.utils.PlotMotionParams>\n",
      "220725-14:00:33,866 nipype.workflow INFO:\n",
      "\t [Node] Finished \"plot_motion\", elapsed time 1.386592s.\n",
      "220725-14:00:33,871 nipype.workflow INFO:\n",
      "\t [Node] Setting-up \"preproc.datasink\" in \"/private/var/folders/m4/9tqx2h0977b4g9l7n72kv3280000gn/T/tmpk4or85le/preproc/_plot_type_rotations/datasink\".\n",
      "220725-14:00:33,882 nipype.workflow INFO:\n",
      "\t [Node] Executing \"datasink\" <nipype.interfaces.io.DataSink>\n",
      "220725-14:00:33,892 nipype.workflow INFO:\n",
      "\t [Node] Finished \"datasink\", elapsed time 0.007316s.\n",
      "220725-14:00:37,371 nipype.workflow INFO:\n",
      "\t Generated workflow graph: /Users/xinyi/Documents/GitHub/fMRI-PhysioNoise/test/1.1/prep/gragh.png (graph2use=orig, simple_form=True).\n"
     ]
    }
   ],
   "source": [
    "prep('/Users/xinyi/Desktop/project/subject/sub01.nii','/Users/xinyi/Desktop/project/subject/struct.nii','test/1.1')"
   ]
  },
  {
   "cell_type": "code",
   "execution_count": 16,
   "metadata": {},
   "outputs": [
    {
     "name": "stderr",
     "output_type": "stream",
     "text": [
      "/Users/xinyi/Documents/GitHub/fMRI-PhysioNoise/getReg.py:164: VisibleDeprecationWarning: Creating an ndarray from ragged nested sequences (which is a list-or-tuple of lists-or-tuples-or ndarrays with different lengths or shapes) is deprecated. If you meant to do this, you must specify 'dtype=object' when creating the ndarray.\n",
      "  hist = np.asarray(hist)\n"
     ]
    },
    {
     "ename": "IndexError",
     "evalue": "only integers, slices (`:`), ellipsis (`...`), numpy.newaxis (`None`) and integer or boolean arrays are valid indices",
     "output_type": "error",
     "traceback": [
      "\u001b[0;31m---------------------------------------------------------------------------\u001b[0m",
      "\u001b[0;31mIndexError\u001b[0m                                Traceback (most recent call last)",
      "\u001b[1;32m/Users/xinyi/Documents/GitHub/fMRI-PhysioNoise/test.ipynb Cell 4\u001b[0m in \u001b[0;36m<cell line: 1>\u001b[0;34m()\u001b[0m\n\u001b[0;32m----> <a href='vscode-notebook-cell:/Users/xinyi/Documents/GitHub/fMRI-PhysioNoise/test.ipynb#ch0000003?line=0'>1</a>\u001b[0m getregressors(\u001b[39m'\u001b[39;49m\u001b[39m/Users/xinyi/Desktop/project/subject/pulse_resp1_Sub1_10june2022_raw.txt\u001b[39;49m\u001b[39m'\u001b[39;49m,\u001b[39m'\u001b[39;49m\u001b[39mtest/1.1\u001b[39;49m\u001b[39m'\u001b[39;49m,\u001b[39m1.7\u001b[39;49m,\u001b[39m2\u001b[39;49m,\u001b[39m10000\u001b[39;49m)\n",
      "File \u001b[0;32m~/Documents/GitHub/fMRI-PhysioNoise/getReg.py:72\u001b[0m, in \u001b[0;36mgetregressors\u001b[0;34m(txtpath, workdir, tr, order, samplerate)\u001b[0m\n\u001b[1;32m     69\u001b[0m phase_c\u001b[39m.\u001b[39mto_csv(workdir \u001b[39m+\u001b[39m \u001b[39m'\u001b[39m\u001b[39m/rsp_phase.csv\u001b[39m\u001b[39m'\u001b[39m, index \u001b[39m=\u001b[39m \u001b[39mNone\u001b[39;00m)\n\u001b[1;32m     70\u001b[0m \u001b[39m# get phase value of respiration and cardiac\u001b[39;00m\n\u001b[0;32m---> 72\u001b[0m resp_phase \u001b[39m=\u001b[39m getphase_res(df, tag, phase, workdir)\n\u001b[1;32m     73\u001b[0m card_phase \u001b[39m=\u001b[39m getphase_ppg(df[\u001b[39m'\u001b[39m\u001b[39mppg\u001b[39m\u001b[39m'\u001b[39m],tag, workdir)\n\u001b[1;32m     75\u001b[0m \u001b[39m# Calculate and Define the size of regressors\u001b[39;00m\n",
      "File \u001b[0;32m~/Documents/GitHub/fMRI-PhysioNoise/getReg.py:169\u001b[0m, in \u001b[0;36mgetphase_res\u001b[0;34m(df, t_scan, phase, workdir)\u001b[0m\n\u001b[1;32m    167\u001b[0m val \u001b[39m=\u001b[39m []\n\u001b[1;32m    168\u001b[0m \u001b[39mfor\u001b[39;00m i \u001b[39min\u001b[39;00m t_scan:\n\u001b[0;32m--> 169\u001b[0m     amp \u001b[39m=\u001b[39m resp[i,\u001b[39m0\u001b[39;49m]\n\u001b[1;32m    170\u001b[0m     amp_norm \u001b[39m=\u001b[39m f(amp)\n\u001b[1;32m    171\u001b[0m     val\u001b[39m.\u001b[39mappend(phase_value(hist,amp_norm) \u001b[39m*\u001b[39m find_phase(phase, i) \u001b[39m*\u001b[39m math\u001b[39m.\u001b[39mpi)\n",
      "\u001b[0;31mIndexError\u001b[0m: only integers, slices (`:`), ellipsis (`...`), numpy.newaxis (`None`) and integer or boolean arrays are valid indices"
     ]
    },
    {
     "data": {
      "image/png": "[encoded data removed]",
      "text/plain": [
       "<Figure size 1080x360 with 1 Axes>"
      ]
     },
     "metadata": {
      "needs_background": "light"
     },
     "output_type": "display_data"
    }
   ],
   "source": [
    "getregressors('/Users/xinyi/Desktop/project/subject/pulse_resp1_Sub1_10june2022_raw.txt','test/1.1',1.7,2,10000)"
   ]
  },
  {
   "cell_type": "code",
   "execution_count": 17,
   "metadata": {},
   "outputs": [
    {
     "data": {
      "text/html": [
       "<div>\n",
       "<style scoped>\n",
       "    .dataframe tbody tr th:only-of-type {\n",
       "        vertical-align: middle;\n",
       "    }\n",
       "\n",
       "    .dataframe tbody tr th {\n",
       "        vertical-align: top;\n",
       "    }\n",
       "\n",
       "    .dataframe thead th {\n",
       "        text-align: right;\n",
       "    }\n",
       "</style>\n",
       "<table border=\"1\" class=\"dataframe\">\n",
       "  <thead>\n",
       "    <tr style=\"text-align: right;\">\n",
       "      <th></th>\n",
       "      <th>0</th>\n",
       "    </tr>\n",
       "  </thead>\n",
       "  <tbody>\n",
       "    <tr>\n",
       "      <th>0</th>\n",
       "      <td>196318.0</td>\n",
       "    </tr>\n",
       "    <tr>\n",
       "      <th>1</th>\n",
       "      <td>213318.0</td>\n",
       "    </tr>\n",
       "    <tr>\n",
       "      <th>2</th>\n",
       "      <td>230318.0</td>\n",
       "    </tr>\n",
       "    <tr>\n",
       "      <th>3</th>\n",
       "      <td>247318.0</td>\n",
       "    </tr>\n",
       "    <tr>\n",
       "      <th>4</th>\n",
       "      <td>264318.0</td>\n",
       "    </tr>\n",
       "    <tr>\n",
       "      <th>...</th>\n",
       "      <td>...</td>\n",
       "    </tr>\n",
       "    <tr>\n",
       "      <th>395</th>\n",
       "      <td>6911353.0</td>\n",
       "    </tr>\n",
       "    <tr>\n",
       "      <th>396</th>\n",
       "      <td>6928353.0</td>\n",
       "    </tr>\n",
       "    <tr>\n",
       "      <th>397</th>\n",
       "      <td>6945353.0</td>\n",
       "    </tr>\n",
       "    <tr>\n",
       "      <th>398</th>\n",
       "      <td>6962353.0</td>\n",
       "    </tr>\n",
       "    <tr>\n",
       "      <th>399</th>\n",
       "      <td>6979353.0</td>\n",
       "    </tr>\n",
       "  </tbody>\n",
       "</table>\n",
       "<p>400 rows × 1 columns</p>\n",
       "</div>"
      ],
      "text/plain": [
       "             0\n",
       "0     196318.0\n",
       "1     213318.0\n",
       "2     230318.0\n",
       "3     247318.0\n",
       "4     264318.0\n",
       "..         ...\n",
       "395  6911353.0\n",
       "396  6928353.0\n",
       "397  6945353.0\n",
       "398  6962353.0\n",
       "399  6979353.0\n",
       "\n",
       "[400 rows x 1 columns]"
      ]
     },
     "execution_count": 17,
     "metadata": {},
     "output_type": "execute_result"
    }
   ],
   "source": [
    "import pandas as pd\n",
    "regressors = pd.read_csv('test/1.1/physio/mri_pulse.csv')\n",
    "regressors"
   ]
  },
  {
   "cell_type": "code",
   "execution_count": 18,
   "metadata": {},
   "outputs": [],
   "source": [
    "import numpy as np\n",
    "txtpath = '/Users/xinyi/Desktop/project/subject/pulse_resp1_Sub1_10june2022_raw.txt'\n",
    "# Open the txt file\n",
    "with open(txtpath, \"r+\") as f:\n",
    "    d = f.readlines()\n",
    "\n",
    "# Remove the head infos \n",
    "for i in np.arange(11):\n",
    "    d.pop(0)\n",
    "\n",
    "# Split values into colums\n",
    "dataset = []\n",
    "for str in d:\n",
    "    row = str.split(\"\\t\")\n",
    "    if row[0] == '':\n",
    "        break\n",
    "    dataset.append([float(i) for i in row[:3]])"
   ]
  },
  {
   "cell_type": "code",
   "execution_count": 19,
   "metadata": {},
   "outputs": [],
   "source": [
    "import pandas as pd\n",
    "from getReg import pulse_detect\n"
   ]
  },
  {
   "cell_type": "code",
   "execution_count": 20,
   "metadata": {},
   "outputs": [
    {
     "ename": "FileNotFoundError",
     "evalue": "[Errno 2] No such file or directory: 'test/mri_test/mri_pulse.csv'",
     "output_type": "error",
     "traceback": [
      "\u001b[0;31m---------------------------------------------------------------------------\u001b[0m",
      "\u001b[0;31mFileNotFoundError\u001b[0m                         Traceback (most recent call last)",
      "\u001b[1;32m/Users/xinyi/Documents/GitHub/fMRI-PhysioNoise/test.ipynb Cell 8\u001b[0m in \u001b[0;36m<cell line: 4>\u001b[0;34m()\u001b[0m\n\u001b[1;32m      <a href='vscode-notebook-cell:/Users/xinyi/Documents/GitHub/fMRI-PhysioNoise/test.ipynb#ch0000007?line=0'>1</a>\u001b[0m df \u001b[39m=\u001b[39m pd\u001b[39m.\u001b[39mDataFrame(dataset)\n\u001b[1;32m      <a href='vscode-notebook-cell:/Users/xinyi/Documents/GitHub/fMRI-PhysioNoise/test.ipynb#ch0000007?line=1'>2</a>\u001b[0m df\u001b[39m.\u001b[39mcolumns \u001b[39m=\u001b[39m [\u001b[39m'\u001b[39m\u001b[39mppg\u001b[39m\u001b[39m'\u001b[39m,\u001b[39m'\u001b[39m\u001b[39mrespiration\u001b[39m\u001b[39m'\u001b[39m,\u001b[39m'\u001b[39m\u001b[39mmri\u001b[39m\u001b[39m'\u001b[39m]\n\u001b[0;32m----> <a href='vscode-notebook-cell:/Users/xinyi/Documents/GitHub/fMRI-PhysioNoise/test.ipynb#ch0000007?line=3'>4</a>\u001b[0m tag, n_scan \u001b[39m=\u001b[39m pulse_detect(df[\u001b[39m'\u001b[39;49m\u001b[39mmri\u001b[39;49m\u001b[39m'\u001b[39;49m], \u001b[39m'\u001b[39;49m\u001b[39mtest/mri_test\u001b[39;49m\u001b[39m'\u001b[39;49m,\u001b[39m1.7\u001b[39;49m)\n",
      "File \u001b[0;32m~/Documents/GitHub/fMRI-PhysioNoise/getReg.py:109\u001b[0m, in \u001b[0;36mpulse_detect\u001b[0;34m(mri, workdir, tr)\u001b[0m\n\u001b[1;32m    107\u001b[0m tag \u001b[39m=\u001b[39m [x\u001b[39m+\u001b[39mtr\u001b[39m*\u001b[39m\u001b[39m5000\u001b[39m \u001b[39mfor\u001b[39;00m x \u001b[39min\u001b[39;00m tag]\n\u001b[1;32m    108\u001b[0m df \u001b[39m=\u001b[39m pd\u001b[39m.\u001b[39mDataFrame(tag)\n\u001b[0;32m--> 109\u001b[0m df\u001b[39m.\u001b[39;49mto_csv(workdir \u001b[39m+\u001b[39;49m \u001b[39m'\u001b[39;49m\u001b[39m/mri_pulse.csv\u001b[39;49m\u001b[39m'\u001b[39;49m, index \u001b[39m=\u001b[39;49m \u001b[39mNone\u001b[39;49;00m)\n\u001b[1;32m    110\u001b[0m \u001b[39mreturn\u001b[39;00m tag, n_scan\n",
      "File \u001b[0;32m/opt/anaconda3/lib/python3.8/site-packages/pandas/core/generic.py:3387\u001b[0m, in \u001b[0;36mNDFrame.to_csv\u001b[0;34m(self, path_or_buf, sep, na_rep, float_format, columns, header, index, index_label, mode, encoding, compression, quoting, quotechar, line_terminator, chunksize, date_format, doublequote, escapechar, decimal, errors, storage_options)\u001b[0m\n\u001b[1;32m   3376\u001b[0m df \u001b[39m=\u001b[39m \u001b[39mself\u001b[39m \u001b[39mif\u001b[39;00m \u001b[39misinstance\u001b[39m(\u001b[39mself\u001b[39m, ABCDataFrame) \u001b[39melse\u001b[39;00m \u001b[39mself\u001b[39m\u001b[39m.\u001b[39mto_frame()\n\u001b[1;32m   3378\u001b[0m formatter \u001b[39m=\u001b[39m DataFrameFormatter(\n\u001b[1;32m   3379\u001b[0m     frame\u001b[39m=\u001b[39mdf,\n\u001b[1;32m   3380\u001b[0m     header\u001b[39m=\u001b[39mheader,\n\u001b[0;32m   (...)\u001b[0m\n\u001b[1;32m   3384\u001b[0m     decimal\u001b[39m=\u001b[39mdecimal,\n\u001b[1;32m   3385\u001b[0m )\n\u001b[0;32m-> 3387\u001b[0m \u001b[39mreturn\u001b[39;00m DataFrameRenderer(formatter)\u001b[39m.\u001b[39;49mto_csv(\n\u001b[1;32m   3388\u001b[0m     path_or_buf,\n\u001b[1;32m   3389\u001b[0m     line_terminator\u001b[39m=\u001b[39;49mline_terminator,\n\u001b[1;32m   3390\u001b[0m     sep\u001b[39m=\u001b[39;49msep,\n\u001b[1;32m   3391\u001b[0m     encoding\u001b[39m=\u001b[39;49mencoding,\n\u001b[1;32m   3392\u001b[0m     errors\u001b[39m=\u001b[39;49merrors,\n\u001b[1;32m   3393\u001b[0m     compression\u001b[39m=\u001b[39;49mcompression,\n\u001b[1;32m   3394\u001b[0m     quoting\u001b[39m=\u001b[39;49mquoting,\n\u001b[1;32m   3395\u001b[0m     columns\u001b[39m=\u001b[39;49mcolumns,\n\u001b[1;32m   3396\u001b[0m     index_label\u001b[39m=\u001b[39;49mindex_label,\n\u001b[1;32m   3397\u001b[0m     mode\u001b[39m=\u001b[39;49mmode,\n\u001b[1;32m   3398\u001b[0m     chunksize\u001b[39m=\u001b[39;49mchunksize,\n\u001b[1;32m   3399\u001b[0m     quotechar\u001b[39m=\u001b[39;49mquotechar,\n\u001b[1;32m   3400\u001b[0m     date_format\u001b[39m=\u001b[39;49mdate_format,\n\u001b[1;32m   3401\u001b[0m     doublequote\u001b[39m=\u001b[39;49mdoublequote,\n\u001b[1;32m   3402\u001b[0m     escapechar\u001b[39m=\u001b[39;49mescapechar,\n\u001b[1;32m   3403\u001b[0m     storage_options\u001b[39m=\u001b[39;49mstorage_options,\n\u001b[1;32m   3404\u001b[0m )\n",
      "File \u001b[0;32m/opt/anaconda3/lib/python3.8/site-packages/pandas/io/formats/format.py:1083\u001b[0m, in \u001b[0;36mDataFrameRenderer.to_csv\u001b[0;34m(self, path_or_buf, encoding, sep, columns, index_label, mode, compression, quoting, quotechar, line_terminator, chunksize, date_format, doublequote, escapechar, errors, storage_options)\u001b[0m\n\u001b[1;32m   1062\u001b[0m     created_buffer \u001b[39m=\u001b[39m \u001b[39mFalse\u001b[39;00m\n\u001b[1;32m   1064\u001b[0m csv_formatter \u001b[39m=\u001b[39m CSVFormatter(\n\u001b[1;32m   1065\u001b[0m     path_or_buf\u001b[39m=\u001b[39mpath_or_buf,\n\u001b[1;32m   1066\u001b[0m     line_terminator\u001b[39m=\u001b[39mline_terminator,\n\u001b[0;32m   (...)\u001b[0m\n\u001b[1;32m   1081\u001b[0m     formatter\u001b[39m=\u001b[39m\u001b[39mself\u001b[39m\u001b[39m.\u001b[39mfmt,\n\u001b[1;32m   1082\u001b[0m )\n\u001b[0;32m-> 1083\u001b[0m csv_formatter\u001b[39m.\u001b[39;49msave()\n\u001b[1;32m   1085\u001b[0m \u001b[39mif\u001b[39;00m created_buffer:\n\u001b[1;32m   1086\u001b[0m     \u001b[39massert\u001b[39;00m \u001b[39misinstance\u001b[39m(path_or_buf, StringIO)\n",
      "File \u001b[0;32m/opt/anaconda3/lib/python3.8/site-packages/pandas/io/formats/csvs.py:228\u001b[0m, in \u001b[0;36mCSVFormatter.save\u001b[0;34m(self)\u001b[0m\n\u001b[1;32m    224\u001b[0m \u001b[39m\"\"\"\u001b[39;00m\n\u001b[1;32m    225\u001b[0m \u001b[39mCreate the writer & save.\u001b[39;00m\n\u001b[1;32m    226\u001b[0m \u001b[39m\"\"\"\u001b[39;00m\n\u001b[1;32m    227\u001b[0m \u001b[39m# apply compression and byte/text conversion\u001b[39;00m\n\u001b[0;32m--> 228\u001b[0m \u001b[39mwith\u001b[39;00m get_handle(\n\u001b[1;32m    229\u001b[0m     \u001b[39mself\u001b[39;49m\u001b[39m.\u001b[39;49mfilepath_or_buffer,\n\u001b[1;32m    230\u001b[0m     \u001b[39mself\u001b[39;49m\u001b[39m.\u001b[39;49mmode,\n\u001b[1;32m    231\u001b[0m     encoding\u001b[39m=\u001b[39;49m\u001b[39mself\u001b[39;49m\u001b[39m.\u001b[39;49mencoding,\n\u001b[1;32m    232\u001b[0m     errors\u001b[39m=\u001b[39;49m\u001b[39mself\u001b[39;49m\u001b[39m.\u001b[39;49merrors,\n\u001b[1;32m    233\u001b[0m     compression\u001b[39m=\u001b[39;49m\u001b[39mself\u001b[39;49m\u001b[39m.\u001b[39;49mcompression,\n\u001b[1;32m    234\u001b[0m     storage_options\u001b[39m=\u001b[39;49m\u001b[39mself\u001b[39;49m\u001b[39m.\u001b[39;49mstorage_options,\n\u001b[1;32m    235\u001b[0m ) \u001b[39mas\u001b[39;00m handles:\n\u001b[1;32m    236\u001b[0m \n\u001b[1;32m    237\u001b[0m     \u001b[39m# Note: self.encoding is irrelevant here\u001b[39;00m\n\u001b[1;32m    238\u001b[0m     \u001b[39mself\u001b[39m\u001b[39m.\u001b[39mwriter \u001b[39m=\u001b[39m csvlib\u001b[39m.\u001b[39mwriter(\n\u001b[1;32m    239\u001b[0m         handles\u001b[39m.\u001b[39mhandle,  \u001b[39m# type: ignore[arg-type]\u001b[39;00m\n\u001b[1;32m    240\u001b[0m         lineterminator\u001b[39m=\u001b[39m\u001b[39mself\u001b[39m\u001b[39m.\u001b[39mline_terminator,\n\u001b[0;32m   (...)\u001b[0m\n\u001b[1;32m    245\u001b[0m         quotechar\u001b[39m=\u001b[39m\u001b[39mself\u001b[39m\u001b[39m.\u001b[39mquotechar,\n\u001b[1;32m    246\u001b[0m     )\n\u001b[1;32m    248\u001b[0m     \u001b[39mself\u001b[39m\u001b[39m.\u001b[39m_save()\n",
      "File \u001b[0;32m/opt/anaconda3/lib/python3.8/site-packages/pandas/io/common.py:642\u001b[0m, in \u001b[0;36mget_handle\u001b[0;34m(path_or_buf, mode, encoding, compression, memory_map, is_text, errors, storage_options)\u001b[0m\n\u001b[1;32m    640\u001b[0m         errors \u001b[39m=\u001b[39m \u001b[39m\"\u001b[39m\u001b[39mreplace\u001b[39m\u001b[39m\"\u001b[39m\n\u001b[1;32m    641\u001b[0m     \u001b[39m# Encoding\u001b[39;00m\n\u001b[0;32m--> 642\u001b[0m     handle \u001b[39m=\u001b[39m \u001b[39mopen\u001b[39;49m(\n\u001b[1;32m    643\u001b[0m         handle,\n\u001b[1;32m    644\u001b[0m         ioargs\u001b[39m.\u001b[39;49mmode,\n\u001b[1;32m    645\u001b[0m         encoding\u001b[39m=\u001b[39;49mioargs\u001b[39m.\u001b[39;49mencoding,\n\u001b[1;32m    646\u001b[0m         errors\u001b[39m=\u001b[39;49merrors,\n\u001b[1;32m    647\u001b[0m         newline\u001b[39m=\u001b[39;49m\u001b[39m\"\u001b[39;49m\u001b[39m\"\u001b[39;49m,\n\u001b[1;32m    648\u001b[0m     )\n\u001b[1;32m    649\u001b[0m \u001b[39melse\u001b[39;00m:\n\u001b[1;32m    650\u001b[0m     \u001b[39m# Binary mode\u001b[39;00m\n\u001b[1;32m    651\u001b[0m     handle \u001b[39m=\u001b[39m \u001b[39mopen\u001b[39m(handle, ioargs\u001b[39m.\u001b[39mmode)\n",
      "\u001b[0;31mFileNotFoundError\u001b[0m: [Errno 2] No such file or directory: 'test/mri_test/mri_pulse.csv'"
     ]
    }
   ],
   "source": [
    "df = pd.DataFrame(dataset)\n",
    "df.columns = ['ppg','respiration','mri']\n",
    "\n",
    "tag, n_scan = pulse_detect(df['mri'], 'test/mri_test',1.7)\n"
   ]
  },
  {
   "cell_type": "code",
   "execution_count": null,
   "metadata": {},
   "outputs": [],
   "source": [
    "ta"
   ]
  }
 ],
 "metadata": {
  "kernelspec": {
   "display_name": "Python 3.8.6",
   "language": "python",
   "name": "python3"
  },
  "language_info": {
   "codemirror_mode": {
    "name": "ipython",
    "version": 3
   },
   "file_extension": ".py",
   "mimetype": "text/x-python",
   "name": "python",
   "nbconvert_exporter": "python",
   "pygments_lexer": "ipython3",
   "version": "3.8.6"
  },
  "orig_nbformat": 4,
  "vscode": {
   "interpreter": {
    "hash": "8f5a176552fc0f23c8f04279340cb4c0ac62022f9ffb83054f20d62859be286b"
   }
  }
 },
 "nbformat": 4,
 "nbformat_minor": 2
}
